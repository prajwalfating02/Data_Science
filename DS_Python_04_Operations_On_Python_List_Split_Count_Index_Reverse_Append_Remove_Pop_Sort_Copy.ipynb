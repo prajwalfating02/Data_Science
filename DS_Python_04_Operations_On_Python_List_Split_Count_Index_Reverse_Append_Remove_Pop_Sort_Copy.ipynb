{
 "cells": [
  {
   "cell_type": "markdown",
   "metadata": {},
   "source": [
    "## Splitting the Data"
   ]
  },
  {
   "cell_type": "code",
   "execution_count": 1,
   "metadata": {},
   "outputs": [
    {
     "name": "stdout",
     "output_type": "stream",
     "text": [
      "['Chris', 'Arthur', 'Jhonson']\n",
      "['Somiron', 'Data', 'Scientist', 'at', 'Microsoft']\n"
     ]
    }
   ],
   "source": [
    "name = 'Chris Arthur Jhonson'.split(' ')              # Splitting each word using the spaces inbetween them\n",
    "\n",
    "job = 'Somiron Data Scientist at Microsoft'.split(' ')     # splitting each word using the spaces inbetween them\n",
    "\n",
    "print(name)\n",
    "\n",
    "print(job)"
   ]
  },
  {
   "cell_type": "code",
   "execution_count": 2,
   "metadata": {},
   "outputs": [],
   "source": [
    "total_all = 'TOTAL,DATA,SCIENCE'.split(',')"
   ]
  },
  {
   "cell_type": "code",
   "execution_count": 3,
   "metadata": {},
   "outputs": [
    {
     "data": {
      "text/plain": [
       "['TOTAL', 'DATA', 'SCIENCE']"
      ]
     },
     "execution_count": 3,
     "metadata": {},
     "output_type": "execute_result"
    }
   ],
   "source": [
    "total_all"
   ]
  },
  {
   "cell_type": "code",
   "execution_count": 10,
   "metadata": {},
   "outputs": [
    {
     "name": "stdout",
     "output_type": "stream",
     "text": [
      "['Prajwal']\n"
     ]
    }
   ],
   "source": [
    "total = \"Prajwal\".split()\n",
    "print(total)"
   ]
  },
  {
   "cell_type": "code",
   "execution_count": 11,
   "metadata": {},
   "outputs": [],
   "source": [
    "names = ['Jhon', 'Chris', 'Modi', 'Megha', 'Simran', 'Chris', 'Josh', 'Arti', 'Jhon', 'Chris']"
   ]
  },
  {
   "cell_type": "code",
   "execution_count": 12,
   "metadata": {},
   "outputs": [
    {
     "data": {
      "text/plain": [
       "3"
      ]
     },
     "execution_count": 12,
     "metadata": {},
     "output_type": "execute_result"
    }
   ],
   "source": [
    "names.count('Chris')                       #Count how many chris are there in total."
   ]
  },
  {
   "cell_type": "code",
   "execution_count": 13,
   "metadata": {},
   "outputs": [
    {
     "data": {
      "text/plain": [
       "1"
      ]
     },
     "execution_count": 13,
     "metadata": {},
     "output_type": "execute_result"
    }
   ],
   "source": [
    "names.index('Chris')                     # find the index at which the first Jhon is encountered"
   ]
  },
  {
   "cell_type": "code",
   "execution_count": 14,
   "metadata": {},
   "outputs": [],
   "source": [
    "names.reverse()                      # reverses the whole list"
   ]
  },
  {
   "cell_type": "code",
   "execution_count": 16,
   "metadata": {},
   "outputs": [
    {
     "name": "stdout",
     "output_type": "stream",
     "text": [
      "['Chris', 'Jhon', 'Arti', 'Josh', 'Chris', 'Simran', 'Megha', 'Modi', 'Chris', 'Jhon']\n"
     ]
    }
   ],
   "source": [
    "print(names)"
   ]
  },
  {
   "cell_type": "code",
   "execution_count": 17,
   "metadata": {},
   "outputs": [
    {
     "data": {
      "text/plain": [
       "['Chris',\n",
       " 'Jhon',\n",
       " 'Arti',\n",
       " 'Josh',\n",
       " 'Chris',\n",
       " 'Simran',\n",
       " 'Megha',\n",
       " 'Modi',\n",
       " 'Chris',\n",
       " 'Jhon',\n",
       " 'Pallavi']"
      ]
     },
     "execution_count": 17,
     "metadata": {},
     "output_type": "execute_result"
    }
   ],
   "source": [
    "names.append(\"Pallavi\")     # append() Adds an item to the list.\n",
    "names"
   ]
  },
  {
   "cell_type": "code",
   "execution_count": 18,
   "metadata": {},
   "outputs": [
    {
     "name": "stdout",
     "output_type": "stream",
     "text": [
      "['Chris', 'Jhon', 'Arti', 'Josh', 'Chris', 'Simran', 'Megha', 'Modi', 'Chris', 'Jhon', 'Pallavi', 'Pallavi']\n"
     ]
    }
   ],
   "source": [
    "names.append(\"Pallavi\")\n",
    "print(names)"
   ]
  },
  {
   "cell_type": "code",
   "execution_count": 19,
   "metadata": {},
   "outputs": [
    {
     "data": {
      "text/plain": [
       "'Pallavi'"
      ]
     },
     "execution_count": 19,
     "metadata": {},
     "output_type": "execute_result"
    }
   ],
   "source": [
    "names.pop()           # pop.([i]) Removes the item at the given position in the list, and return it. If no index is specified, a.Pop() remove and returns the last item in the list.\n"
   ]
  },
  {
   "cell_type": "code",
   "execution_count": 20,
   "metadata": {},
   "outputs": [
    {
     "data": {
      "text/plain": [
       "'Josh'"
      ]
     },
     "execution_count": 20,
     "metadata": {},
     "output_type": "execute_result"
    }
   ],
   "source": [
    "names.pop(3)"
   ]
  },
  {
   "cell_type": "code",
   "execution_count": 21,
   "metadata": {},
   "outputs": [
    {
     "name": "stdout",
     "output_type": "stream",
     "text": [
      "['Chris', 'Jhon', 'Arti', 'Chris', 'Simran', 'Megha', 'Modi', 'Chris', 'Jhon', 'Pallavi']\n"
     ]
    }
   ],
   "source": [
    "print(names)"
   ]
  },
  {
   "cell_type": "code",
   "execution_count": 26,
   "metadata": {},
   "outputs": [
    {
     "data": {
      "text/plain": [
       "['Arti',\n",
       " 'Chris',\n",
       " 'Chris',\n",
       " 'Chris',\n",
       " 'Jhon',\n",
       " 'Jhon',\n",
       " 'Megha',\n",
       " 'Modi',\n",
       " 'Pallavi',\n",
       " 'Simran']"
      ]
     },
     "execution_count": 26,
     "metadata": {},
     "output_type": "execute_result"
    }
   ],
   "source": [
    "names.sort()            # Sort the items of the list in place\n",
    "names"
   ]
  },
  {
   "cell_type": "code",
   "execution_count": 27,
   "metadata": {},
   "outputs": [
    {
     "name": "stdout",
     "output_type": "stream",
     "text": [
      "['Arti', 'Chris', 'Chris', 'Chris', 'Jhon', 'Jhon', 'Megha', 'Modi', 'Pallavi', 'Simran']\n"
     ]
    }
   ],
   "source": [
    "print(names)                   # Sort means that is in A to Z format."
   ]
  },
  {
   "cell_type": "code",
   "execution_count": 28,
   "metadata": {},
   "outputs": [
    {
     "data": {
      "text/plain": [
       "['Arti',\n",
       " 'Chris',\n",
       " 'Chris',\n",
       " 'Chris',\n",
       " 'Jhon',\n",
       " 'Jhon',\n",
       " 'Megha',\n",
       " 'Modi',\n",
       " 'Pallavi',\n",
       " 'Simran']"
      ]
     },
     "execution_count": 28,
     "metadata": {},
     "output_type": "execute_result"
    }
   ],
   "source": [
    "new_names = names.copy()\n",
    "new_names                                 # Change "
   ]
  },
  {
   "cell_type": "code",
   "execution_count": 30,
   "metadata": {},
   "outputs": [
    {
     "name": "stdout",
     "output_type": "stream",
     "text": [
      "['Arti', 'Chris', 'Chris', 'Chris', 'Jhon', 'Jhon', 'Megha', 'Modi', 'Pallavi', 'Simran']\n"
     ]
    }
   ],
   "source": [
    "print(new_names)"
   ]
  },
  {
   "cell_type": "code",
   "execution_count": null,
   "metadata": {},
   "outputs": [],
   "source": []
  }
 ],
 "metadata": {
  "kernelspec": {
   "display_name": "Python 3",
   "language": "python",
   "name": "python3"
  },
  "language_info": {
   "codemirror_mode": {
    "name": "ipython",
    "version": 3
   },
   "file_extension": ".py",
   "mimetype": "text/x-python",
   "name": "python",
   "nbconvert_exporter": "python",
   "pygments_lexer": "ipython3",
   "version": "3.8.5"
  }
 },
 "nbformat": 4,
 "nbformat_minor": 4
}
