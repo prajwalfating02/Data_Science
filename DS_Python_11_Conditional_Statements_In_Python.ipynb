{
 "cells": [
  {
   "cell_type": "markdown",
   "metadata": {},
   "source": [
    "# Conditional Statements"
   ]
  },
  {
   "cell_type": "markdown",
   "metadata": {},
   "source": [
    "## If Statements"
   ]
  },
  {
   "cell_type": "code",
   "execution_count": 1,
   "metadata": {},
   "outputs": [
    {
     "name": "stdout",
     "output_type": "stream",
     "text": [
      "b is less than a\n"
     ]
    }
   ],
   "source": [
    "a = 7\n",
    "b = 2\n",
    "if (b < a):\n",
    "    print('b is less than a')"
   ]
  },
  {
   "cell_type": "code",
   "execution_count": 2,
   "metadata": {},
   "outputs": [],
   "source": [
    "a = 2\n",
    "b = 7\n",
    "if (b < a):                                # This is not show output because the statement is not satisfied b < a .\n",
    "    print('bis less than a')"
   ]
  },
  {
   "cell_type": "code",
   "execution_count": 3,
   "metadata": {},
   "outputs": [
    {
     "name": "stdout",
     "output_type": "stream",
     "text": [
      "yes you are right, 'total' is in 'totaldatascience'\n"
     ]
    }
   ],
   "source": [
    "if 'total' in 'totaldatascience':\n",
    "    print(\"yes you are right, 'total' is in 'totaldatascience'\")"
   ]
  },
  {
   "cell_type": "code",
   "execution_count": 4,
   "metadata": {},
   "outputs": [],
   "source": [
    "if 'name' in 'Prajwal Visheshwar Fating':\n",
    "    print(\"yes you are right, 'name' is in 'Prajwal Visheshwar Fating'\")"
   ]
  },
  {
   "cell_type": "code",
   "execution_count": 5,
   "metadata": {},
   "outputs": [],
   "source": [
    "# This is also not show output because the statement is not satisfied."
   ]
  },
  {
   "cell_type": "markdown",
   "metadata": {},
   "source": [
    "## If else Statement"
   ]
  },
  {
   "cell_type": "code",
   "execution_count": 6,
   "metadata": {},
   "outputs": [
    {
     "name": "stdout",
     "output_type": "stream",
     "text": [
      "b is actually greater than a\n"
     ]
    }
   ],
   "source": [
    "a = 2\n",
    "b = 7                                              # In this print 2nd line because \"b > a\"\n",
    "if (b < a):\n",
    "    print('b is less than a')\n",
    "else:\n",
    "    print('b is actually greater than a')"
   ]
  },
  {
   "cell_type": "code",
   "execution_count": 7,
   "metadata": {},
   "outputs": [
    {
     "name": "stdout",
     "output_type": "stream",
     "text": [
      "b is less than a\n"
     ]
    }
   ],
   "source": [
    "a = 5\n",
    "b = 2\n",
    "if (b < a):                                        # In this print 1st line because \"a > b\"\n",
    "    print('b is less than a')\n",
    "else:\n",
    "    print('b is actually greater than a')"
   ]
  },
  {
   "cell_type": "code",
   "execution_count": 8,
   "metadata": {},
   "outputs": [],
   "source": [
    "def continent(country):\n",
    "    if country == 'India':\n",
    "        return 'Asia'\n",
    "    elif country == 'Germany':\n",
    "        return 'Europe'\n",
    "    elif country == 'South Africa':\n",
    "        return 'Africa'\n",
    "    else:\n",
    "        return None"
   ]
  },
  {
   "cell_type": "code",
   "execution_count": 9,
   "metadata": {},
   "outputs": [
    {
     "data": {
      "text/plain": [
       "'Asia'"
      ]
     },
     "execution_count": 9,
     "metadata": {},
     "output_type": "execute_result"
    }
   ],
   "source": [
    "continent('India')"
   ]
  },
  {
   "cell_type": "code",
   "execution_count": 10,
   "metadata": {},
   "outputs": [
    {
     "data": {
      "text/plain": [
       "'Africa'"
      ]
     },
     "execution_count": 10,
     "metadata": {},
     "output_type": "execute_result"
    }
   ],
   "source": [
    "continent('South Africa')"
   ]
  },
  {
   "cell_type": "code",
   "execution_count": 11,
   "metadata": {},
   "outputs": [
    {
     "data": {
      "text/plain": [
       "'Europe'"
      ]
     },
     "execution_count": 11,
     "metadata": {},
     "output_type": "execute_result"
    }
   ],
   "source": [
    "continent('Germany')"
   ]
  },
  {
   "cell_type": "markdown",
   "metadata": {},
   "source": [
    "## While Statement"
   ]
  },
  {
   "cell_type": "markdown",
   "metadata": {},
   "source": [
    "To repeatedly execute a block of statement for as long as the given condition is true."
   ]
  },
  {
   "cell_type": "code",
   "execution_count": 12,
   "metadata": {},
   "outputs": [
    {
     "name": "stdout",
     "output_type": "stream",
     "text": [
      "9\n",
      "8\n",
      "7\n",
      "6\n",
      "5\n",
      "4\n",
      "3\n",
      "2\n",
      "1\n",
      "0\n"
     ]
    }
   ],
   "source": [
    "number = 10\n",
    "while number > 0:                        # 10-1=9, 9-1=8, 8-1=7...........2-1=1, 1-1=0.\n",
    "    number -= 1\n",
    "    print(number)"
   ]
  },
  {
   "cell_type": "code",
   "execution_count": 13,
   "metadata": {},
   "outputs": [
    {
     "name": "stdout",
     "output_type": "stream",
     "text": [
      "1\n",
      "2\n",
      "3\n",
      "4\n",
      "5\n",
      "6\n",
      "7\n",
      "8\n",
      "9\n",
      "let's end at 10\n"
     ]
    }
   ],
   "source": [
    "i = 1 \n",
    "while i < 10:\n",
    "    print(i)                        # 0+1=1, 1+1=2, 2+1=3.............8+1=9, 9+1=10\n",
    "    i += 1\n",
    "else:\n",
    "    print(\"let's end at\",i)"
   ]
  },
  {
   "cell_type": "code",
   "execution_count": 14,
   "metadata": {},
   "outputs": [
    {
     "name": "stdout",
     "output_type": "stream",
     "text": [
      "1 t\n",
      "2 o\n",
      "3 t\n",
      "4 a\n",
      "5 l\n",
      "6 d\n",
      "7 a\n",
      "8 t\n",
      "9 a\n",
      "10 s\n",
      "11 c\n",
      "12 i\n",
      "13 e\n",
      "14 n\n",
      "15 c\n",
      "16 e\n"
     ]
    }
   ],
   "source": [
    "i = 'totaldatascience'\n",
    "j = 1\n",
    "while j > 0:\n",
    "    for x in i:\n",
    "        print(j, x)\n",
    "        j = j + 1\n",
    "    if x == 'e':\n",
    "        break"
   ]
  },
  {
   "cell_type": "markdown",
   "metadata": {},
   "source": [
    "**Assign: Find the difference between while and if statements**"
   ]
  },
  {
   "cell_type": "markdown",
   "metadata": {},
   "source": [
    "**Solution:-** Meaning an if statement gives you once the possibility to do something or not (or something else). Whereas a while loop does things as long as the condition is true."
   ]
  },
  {
   "cell_type": "markdown",
   "metadata": {},
   "source": [
    "## For Statement"
   ]
  },
  {
   "cell_type": "code",
   "execution_count": 16,
   "metadata": {},
   "outputs": [
    {
     "name": "stdout",
     "output_type": "stream",
     "text": [
      "100\n",
      "200\n",
      "500\n",
      "1000\n",
      "400\n",
      "5.5\n"
     ]
    }
   ],
   "source": [
    "for item in [100,200,500,1000,400,5.5]:\n",
    "    print(item)"
   ]
  },
  {
   "cell_type": "code",
   "execution_count": 17,
   "metadata": {},
   "outputs": [
    {
     "name": "stdout",
     "output_type": "stream",
     "text": [
      "0\n",
      "15\n",
      "30\n",
      "45\n",
      "60\n",
      "75\n",
      "90\n"
     ]
    }
   ],
   "source": [
    "for n in range(0,100,15):\n",
    "    print(n)"
   ]
  },
  {
   "cell_type": "code",
   "execution_count": 21,
   "metadata": {},
   "outputs": [
    {
     "name": "stdout",
     "output_type": "stream",
     "text": [
      "200\n",
      "67\n",
      "5\n",
      "888\n",
      "247\n",
      "Last number is 247\n"
     ]
    }
   ],
   "source": [
    "numbers = [200, 67, 5, 888, 247]\n",
    "\n",
    "for m in numbers:\n",
    "    print(m)\n",
    "else:\n",
    "    print(\"Last number is\", numbers[4])"
   ]
  },
  {
   "cell_type": "code",
   "execution_count": 23,
   "metadata": {},
   "outputs": [
    {
     "name": "stdout",
     "output_type": "stream",
     "text": [
      "This looks real Simran\n",
      "No spam names here!\n",
      "This looks real Plato\n",
      "This looks real Shay\n",
      "Thanks for removing spam names\n"
     ]
    }
   ],
   "source": [
    "names = [\"Simran\", \"xxmmo3o3\", \"Plato\", \"Shay\"]\n",
    "for name in names:\n",
    "    if name == \"xxmmo3o3\":\n",
    "        print(\"No spam names here!\")\n",
    "        continue\n",
    "    print(\"This looks real \" + name)\n",
    "else:\n",
    "    print(\"Thanks for removing spam names\")"
   ]
  },
  {
   "cell_type": "code",
   "execution_count": 24,
   "metadata": {},
   "outputs": [
    {
     "data": {
      "text/plain": [
       "[0, 1, 4, 9, 16, 25, 36, 49, 64, 81]"
      ]
     },
     "execution_count": 24,
     "metadata": {},
     "output_type": "execute_result"
    }
   ],
   "source": [
    "square = [x**2 for x in range(10)]            # NB: x*2(to multiply), x**2(to square the given number)\n",
    "square"
   ]
  },
  {
   "cell_type": "code",
   "execution_count": null,
   "metadata": {},
   "outputs": [],
   "source": []
  }
 ],
 "metadata": {
  "kernelspec": {
   "display_name": "Python 3",
   "language": "python",
   "name": "python3"
  },
  "language_info": {
   "codemirror_mode": {
    "name": "ipython",
    "version": 3
   },
   "file_extension": ".py",
   "mimetype": "text/x-python",
   "name": "python",
   "nbconvert_exporter": "python",
   "pygments_lexer": "ipython3",
   "version": "3.8.5"
  }
 },
 "nbformat": 4,
 "nbformat_minor": 4
}
