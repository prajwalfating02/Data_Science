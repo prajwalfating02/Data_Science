{
 "cells": [
  {
   "cell_type": "markdown",
   "metadata": {},
   "source": [
    "# Join and Merge"
   ]
  },
  {
   "cell_type": "code",
   "execution_count": 9,
   "metadata": {},
   "outputs": [],
   "source": [
    "import pandas as pd\n",
    "import numpy as np"
   ]
  },
  {
   "cell_type": "code",
   "execution_count": 10,
   "metadata": {},
   "outputs": [],
   "source": [
    "# Dataframe of number of sales made by an employes\n",
    "sales = {'Jones' : 10000,\n",
    "        'Chris' : 5000,\n",
    "        'Piyush' : 440,\n",
    "        'Meera' : 6700,\n",
    "        'Rahul' : 300\n",
    "        }\n",
    "\n",
    "# Dataframe of all employees and the region they work in\n",
    "region = {'Jones': 'West',\n",
    "         'Chris': np.nan,\n",
    "         'Piyush': 'West',\n",
    "         'Meera': np.nan,\n",
    "         'Anthony': 'East',\n",
    "         'Ellen': 'South',\n",
    "         'Josh': 'West',\n",
    "         'Simran': 'East',\n",
    "         'Oscar': 'North',\n",
    "         }"
   ]
  },
  {
   "cell_type": "code",
   "execution_count": 11,
   "metadata": {},
   "outputs": [],
   "source": [
    "# Convert dictionary to datframes\n",
    "sales_df = pd.DataFrame.from_dict(sales, orient='index',\n",
    "                                 columns=['sales'])\n",
    "region_df = pd.DataFrame.from_dict(region, orient='index',\n",
    "                                  columns=['region'])"
   ]
  },
  {
   "cell_type": "code",
   "execution_count": 12,
   "metadata": {},
   "outputs": [
    {
     "data": {
      "text/html": [
       "<div>\n",
       "<style scoped>\n",
       "    .dataframe tbody tr th:only-of-type {\n",
       "        vertical-align: middle;\n",
       "    }\n",
       "\n",
       "    .dataframe tbody tr th {\n",
       "        vertical-align: top;\n",
       "    }\n",
       "\n",
       "    .dataframe thead th {\n",
       "        text-align: right;\n",
       "    }\n",
       "</style>\n",
       "<table border=\"1\" class=\"dataframe\">\n",
       "  <thead>\n",
       "    <tr style=\"text-align: right;\">\n",
       "      <th></th>\n",
       "      <th>sales</th>\n",
       "    </tr>\n",
       "  </thead>\n",
       "  <tbody>\n",
       "    <tr>\n",
       "      <th>Jones</th>\n",
       "      <td>10000</td>\n",
       "    </tr>\n",
       "    <tr>\n",
       "      <th>Chris</th>\n",
       "      <td>5000</td>\n",
       "    </tr>\n",
       "    <tr>\n",
       "      <th>Piyush</th>\n",
       "      <td>440</td>\n",
       "    </tr>\n",
       "    <tr>\n",
       "      <th>Meera</th>\n",
       "      <td>6700</td>\n",
       "    </tr>\n",
       "    <tr>\n",
       "      <th>Rahul</th>\n",
       "      <td>300</td>\n",
       "    </tr>\n",
       "  </tbody>\n",
       "</table>\n",
       "</div>"
      ],
      "text/plain": [
       "        sales\n",
       "Jones   10000\n",
       "Chris    5000\n",
       "Piyush    440\n",
       "Meera    6700\n",
       "Rahul     300"
      ]
     },
     "execution_count": 12,
     "metadata": {},
     "output_type": "execute_result"
    }
   ],
   "source": [
    "sales_df"
   ]
  },
  {
   "cell_type": "code",
   "execution_count": 13,
   "metadata": {},
   "outputs": [
    {
     "data": {
      "text/html": [
       "<div>\n",
       "<style scoped>\n",
       "    .dataframe tbody tr th:only-of-type {\n",
       "        vertical-align: middle;\n",
       "    }\n",
       "\n",
       "    .dataframe tbody tr th {\n",
       "        vertical-align: top;\n",
       "    }\n",
       "\n",
       "    .dataframe thead th {\n",
       "        text-align: right;\n",
       "    }\n",
       "</style>\n",
       "<table border=\"1\" class=\"dataframe\">\n",
       "  <thead>\n",
       "    <tr style=\"text-align: right;\">\n",
       "      <th></th>\n",
       "      <th>region</th>\n",
       "    </tr>\n",
       "  </thead>\n",
       "  <tbody>\n",
       "    <tr>\n",
       "      <th>Jones</th>\n",
       "      <td>West</td>\n",
       "    </tr>\n",
       "    <tr>\n",
       "      <th>Chris</th>\n",
       "      <td>NaN</td>\n",
       "    </tr>\n",
       "    <tr>\n",
       "      <th>Piyush</th>\n",
       "      <td>West</td>\n",
       "    </tr>\n",
       "    <tr>\n",
       "      <th>Meera</th>\n",
       "      <td>NaN</td>\n",
       "    </tr>\n",
       "    <tr>\n",
       "      <th>Anthony</th>\n",
       "      <td>East</td>\n",
       "    </tr>\n",
       "    <tr>\n",
       "      <th>Ellen</th>\n",
       "      <td>South</td>\n",
       "    </tr>\n",
       "    <tr>\n",
       "      <th>Josh</th>\n",
       "      <td>West</td>\n",
       "    </tr>\n",
       "    <tr>\n",
       "      <th>Simran</th>\n",
       "      <td>East</td>\n",
       "    </tr>\n",
       "    <tr>\n",
       "      <th>Oscar</th>\n",
       "      <td>North</td>\n",
       "    </tr>\n",
       "  </tbody>\n",
       "</table>\n",
       "</div>"
      ],
      "text/plain": [
       "        region\n",
       "Jones     West\n",
       "Chris      NaN\n",
       "Piyush    West\n",
       "Meera      NaN\n",
       "Anthony   East\n",
       "Ellen    South\n",
       "Josh      West\n",
       "Simran    East\n",
       "Oscar    North"
      ]
     },
     "execution_count": 13,
     "metadata": {},
     "output_type": "execute_result"
    }
   ],
   "source": [
    "region_df"
   ]
  },
  {
   "cell_type": "markdown",
   "metadata": {},
   "source": [
    "# Join"
   ]
  },
  {
   "cell_type": "code",
   "execution_count": 14,
   "metadata": {},
   "outputs": [
    {
     "name": "stdout",
     "output_type": "stream",
     "text": [
      "        region    sales\n",
      "Jones     West  10000.0\n",
      "Chris      NaN   5000.0\n",
      "Piyush    West    440.0\n",
      "Meera      NaN   6700.0\n",
      "Anthony   East      NaN\n",
      "Ellen    South      NaN\n",
      "Josh      West      NaN\n",
      "Simran    East      NaN\n",
      "Oscar    North      NaN\n"
     ]
    }
   ],
   "source": [
    "# It treats the region_df as left table and the sales_df as right \n",
    "# Table and therefore all the items in region_df will appear and only\n",
    "# Those items in sales_df that matches with region_df will appear\n",
    "\n",
    "joined_df = region_df.join(sales_df, how='left')\n",
    "print(joined_df)"
   ]
  },
  {
   "cell_type": "code",
   "execution_count": 16,
   "metadata": {},
   "outputs": [
    {
     "name": "stdout",
     "output_type": "stream",
     "text": [
      "       region  sales\n",
      "Jones    West  10000\n",
      "Chris     NaN   5000\n",
      "Piyush   West    440\n",
      "Meera     NaN   6700\n",
      "Rahul     NaN    300\n"
     ]
    }
   ],
   "source": [
    "# It treats the region_df as left table and the sales_df as right\n",
    "# Table and therefore all the items in sales_df will appear and only\n",
    "# those items in region_df that matches with region_df will appear\n",
    "\n",
    "joined_df = region_df.join(sales_df, how='right')\n",
    "print(joined_df)"
   ]
  },
  {
   "cell_type": "code",
   "execution_count": 17,
   "metadata": {},
   "outputs": [
    {
     "name": "stdout",
     "output_type": "stream",
     "text": [
      "       region  sales\n",
      "Jones    West  10000\n",
      "Chris     NaN   5000\n",
      "Piyush   West    440\n",
      "Meera     NaN   6700\n"
     ]
    }
   ],
   "source": [
    "joined_df = region_df.join(sales_df, how='inner')          # Here Rahul will not appear since it is not in both of the dataframes\n",
    "print(joined_df)"
   ]
  },
  {
   "cell_type": "code",
   "execution_count": 18,
   "metadata": {},
   "outputs": [
    {
     "name": "stdout",
     "output_type": "stream",
     "text": [
      "        region    sales\n",
      "Anthony   East      NaN\n",
      "Chris      NaN   5000.0\n",
      "Ellen    South      NaN\n",
      "Jones     West  10000.0\n",
      "Josh      West      NaN\n",
      "Meera      NaN   6700.0\n",
      "Oscar    North      NaN\n",
      "Piyush    West    440.0\n",
      "Rahul      NaN    300.0\n",
      "Simran    East      NaN\n"
     ]
    }
   ],
   "source": [
    "joined_df = region_df.join(sales_df, how='outer')           # Joining all the data points in both dataframes\n",
    "print(joined_df)"
   ]
  },
  {
   "cell_type": "markdown",
   "metadata": {},
   "source": [
    "# Merge"
   ]
  },
  {
   "cell_type": "code",
   "execution_count": 19,
   "metadata": {},
   "outputs": [],
   "source": [
    "# Give title to the index column\n",
    "\n",
    "region_df.index.name='names'\n",
    "sales_df.index.name='names'"
   ]
  },
  {
   "cell_type": "code",
   "execution_count": 20,
   "metadata": {},
   "outputs": [
    {
     "name": "stdout",
     "output_type": "stream",
     "text": [
      "       region  sales\n",
      "names               \n",
      "Jones    West  10000\n",
      "Chris     NaN   5000\n",
      "Piyush   West    440\n",
      "Meera     NaN   6700\n"
     ]
    }
   ],
   "source": [
    "print(pd.merge(region_df, sales_df, on='names'))   # Merge on a key (NB : you can also merge on multiple keys)"
   ]
  },
  {
   "cell_type": "code",
   "execution_count": 21,
   "metadata": {},
   "outputs": [
    {
     "name": "stdout",
     "output_type": "stream",
     "text": [
      "        region    sales\n",
      "names                  \n",
      "Jones     West  10000.0\n",
      "Chris      NaN   5000.0\n",
      "Piyush    West    440.0\n",
      "Meera      NaN   6700.0\n",
      "Anthony   East      NaN\n",
      "Ellen    South      NaN\n",
      "Josh      West      NaN\n",
      "Simran    East      NaN\n",
      "Oscar    North      NaN\n"
     ]
    }
   ],
   "source": [
    "print(pd.merge(region_df, sales_df, on='names', how='left'))"
   ]
  },
  {
   "cell_type": "code",
   "execution_count": 22,
   "metadata": {},
   "outputs": [
    {
     "name": "stdout",
     "output_type": "stream",
     "text": [
      "       region  sales\n",
      "names               \n",
      "Jones    West  10000\n",
      "Chris     NaN   5000\n",
      "Piyush   West    440\n",
      "Meera     NaN   6700\n",
      "Rahul     NaN    300\n"
     ]
    }
   ],
   "source": [
    "print(pd.merge(region_df, sales_df, on='names', how='right'))"
   ]
  },
  {
   "cell_type": "code",
   "execution_count": 23,
   "metadata": {},
   "outputs": [
    {
     "name": "stdout",
     "output_type": "stream",
     "text": [
      "       region  sales\n",
      "names               \n",
      "Jones    West  10000\n",
      "Chris     NaN   5000\n",
      "Piyush   West    440\n",
      "Meera     NaN   6700\n"
     ]
    }
   ],
   "source": [
    "print(pd.merge(region_df, sales_df, on='names', how='inner'))"
   ]
  },
  {
   "cell_type": "code",
   "execution_count": 25,
   "metadata": {},
   "outputs": [
    {
     "name": "stdout",
     "output_type": "stream",
     "text": [
      "        region    sales\n",
      "names                  \n",
      "Jones     West  10000.0\n",
      "Chris      NaN   5000.0\n",
      "Piyush    West    440.0\n",
      "Meera      NaN   6700.0\n",
      "Anthony   East      NaN\n",
      "Ellen    South      NaN\n",
      "Josh      West      NaN\n",
      "Simran    East      NaN\n",
      "Oscar    North      NaN\n",
      "Rahul      NaN    300.0\n"
     ]
    }
   ],
   "source": [
    "print(pd.merge(region_df, sales_df, on='names', how='outer'))"
   ]
  },
  {
   "cell_type": "code",
   "execution_count": null,
   "metadata": {},
   "outputs": [],
   "source": []
  }
 ],
 "metadata": {
  "kernelspec": {
   "display_name": "Python 3",
   "language": "python",
   "name": "python3"
  },
  "language_info": {
   "codemirror_mode": {
    "name": "ipython",
    "version": 3
   },
   "file_extension": ".py",
   "mimetype": "text/x-python",
   "name": "python",
   "nbconvert_exporter": "python",
   "pygments_lexer": "ipython3",
   "version": "3.8.5"
  }
 },
 "nbformat": 4,
 "nbformat_minor": 4
}
