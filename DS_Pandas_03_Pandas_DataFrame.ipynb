{
 "cells": [
  {
   "cell_type": "markdown",
   "metadata": {},
   "source": [
    "# DataFrames"
   ]
  },
  {
   "cell_type": "markdown",
   "metadata": {},
   "source": [
    "Two-dimensional, size-mutable, potentially heterogeneous tabular data.\n",
    "\n",
    "<br>\n",
    "\n",
    "Data structure also containsn labeled axes (rows and columns). Arithmetic operations align on both row and column labels. Can be thought of as a dick-like container for Series objects. The primary pandas data structure.\n",
    "\n"
   ]
  },
  {
   "cell_type": "code",
   "execution_count": 1,
   "metadata": {},
   "outputs": [],
   "source": [
    "import pandas as pd\n",
    "import numpy as np"
   ]
  },
  {
   "cell_type": "code",
   "execution_count": 2,
   "metadata": {},
   "outputs": [
    {
     "data": {
      "text/plain": [
       "array([[-0.70649787,  1.1703065 ,  0.06497714,  1.48046644,  0.7749032 ],\n",
       "       [-0.35182017, -0.1511506 , -0.10910591, -0.2046725 , -0.34198765],\n",
       "       [-0.3103071 , -0.03810963,  0.64677555, -0.69730437,  1.44049477],\n",
       "       [-1.14706673,  0.88195943,  1.02917859, -1.4739931 , -0.84003063],\n",
       "       [-0.36232673, -0.92027963, -0.56221071,  0.22287864, -0.34959803],\n",
       "       [-1.18619561,  0.32499186, -0.80196517,  0.06560252, -0.79488194],\n",
       "       [-0.03892196, -0.87902649,  2.37666536,  0.96079661,  0.57708854],\n",
       "       [ 0.42485626,  0.92715396,  1.32077727, -0.08223325, -1.02712196],\n",
       "       [ 1.6632496 , -0.17489988,  0.7644345 ,  0.07465041,  0.02892526],\n",
       "       [-1.3237321 ,  0.540644  , -0.34883775, -1.29366132, -0.97082973]])"
      ]
     },
     "execution_count": 2,
     "metadata": {},
     "output_type": "execute_result"
    }
   ],
   "source": [
    "np.random.randn(10,5)                               #  \"10*5\"     10 Rows & 5 columns"
   ]
  },
  {
   "cell_type": "code",
   "execution_count": 7,
   "metadata": {},
   "outputs": [],
   "source": [
    "my_dataframe = pd.DataFrame(np.random.randn(10,5),index='row1 row2 row3 row4 row5 row6 row7 row8 row9 row10'.split(), columns='column1 column2 column3 column4 column5'.split())"
   ]
  },
  {
   "cell_type": "code",
   "execution_count": 8,
   "metadata": {},
   "outputs": [
    {
     "data": {
      "text/html": [
       "<div>\n",
       "<style scoped>\n",
       "    .dataframe tbody tr th:only-of-type {\n",
       "        vertical-align: middle;\n",
       "    }\n",
       "\n",
       "    .dataframe tbody tr th {\n",
       "        vertical-align: top;\n",
       "    }\n",
       "\n",
       "    .dataframe thead th {\n",
       "        text-align: right;\n",
       "    }\n",
       "</style>\n",
       "<table border=\"1\" class=\"dataframe\">\n",
       "  <thead>\n",
       "    <tr style=\"text-align: right;\">\n",
       "      <th></th>\n",
       "      <th>column1</th>\n",
       "      <th>column2</th>\n",
       "      <th>column3</th>\n",
       "      <th>column4</th>\n",
       "      <th>column5</th>\n",
       "    </tr>\n",
       "  </thead>\n",
       "  <tbody>\n",
       "    <tr>\n",
       "      <th>row1</th>\n",
       "      <td>-0.368133</td>\n",
       "      <td>2.249099</td>\n",
       "      <td>-0.140444</td>\n",
       "      <td>-0.552574</td>\n",
       "      <td>0.012193</td>\n",
       "    </tr>\n",
       "    <tr>\n",
       "      <th>row2</th>\n",
       "      <td>-1.221555</td>\n",
       "      <td>0.707709</td>\n",
       "      <td>0.086960</td>\n",
       "      <td>-1.115433</td>\n",
       "      <td>-0.021542</td>\n",
       "    </tr>\n",
       "    <tr>\n",
       "      <th>row3</th>\n",
       "      <td>0.754860</td>\n",
       "      <td>-0.767320</td>\n",
       "      <td>0.599625</td>\n",
       "      <td>-0.035576</td>\n",
       "      <td>0.348754</td>\n",
       "    </tr>\n",
       "    <tr>\n",
       "      <th>row4</th>\n",
       "      <td>-0.036911</td>\n",
       "      <td>-0.436387</td>\n",
       "      <td>-0.540234</td>\n",
       "      <td>1.866099</td>\n",
       "      <td>-1.658117</td>\n",
       "    </tr>\n",
       "    <tr>\n",
       "      <th>row5</th>\n",
       "      <td>2.938666</td>\n",
       "      <td>-0.197155</td>\n",
       "      <td>1.480282</td>\n",
       "      <td>0.653676</td>\n",
       "      <td>-1.570708</td>\n",
       "    </tr>\n",
       "    <tr>\n",
       "      <th>row6</th>\n",
       "      <td>0.636236</td>\n",
       "      <td>1.264573</td>\n",
       "      <td>0.477637</td>\n",
       "      <td>-1.516430</td>\n",
       "      <td>0.742476</td>\n",
       "    </tr>\n",
       "    <tr>\n",
       "      <th>row7</th>\n",
       "      <td>1.362473</td>\n",
       "      <td>0.410240</td>\n",
       "      <td>2.084366</td>\n",
       "      <td>0.219196</td>\n",
       "      <td>-2.468919</td>\n",
       "    </tr>\n",
       "    <tr>\n",
       "      <th>row8</th>\n",
       "      <td>1.191556</td>\n",
       "      <td>-0.671468</td>\n",
       "      <td>0.452619</td>\n",
       "      <td>1.296798</td>\n",
       "      <td>-0.222210</td>\n",
       "    </tr>\n",
       "    <tr>\n",
       "      <th>row9</th>\n",
       "      <td>1.504777</td>\n",
       "      <td>-0.813249</td>\n",
       "      <td>1.235534</td>\n",
       "      <td>-0.292836</td>\n",
       "      <td>0.635495</td>\n",
       "    </tr>\n",
       "    <tr>\n",
       "      <th>row10</th>\n",
       "      <td>0.498502</td>\n",
       "      <td>-1.127285</td>\n",
       "      <td>-1.357911</td>\n",
       "      <td>-1.185511</td>\n",
       "      <td>-0.403731</td>\n",
       "    </tr>\n",
       "  </tbody>\n",
       "</table>\n",
       "</div>"
      ],
      "text/plain": [
       "        column1   column2   column3   column4   column5\n",
       "row1  -0.368133  2.249099 -0.140444 -0.552574  0.012193\n",
       "row2  -1.221555  0.707709  0.086960 -1.115433 -0.021542\n",
       "row3   0.754860 -0.767320  0.599625 -0.035576  0.348754\n",
       "row4  -0.036911 -0.436387 -0.540234  1.866099 -1.658117\n",
       "row5   2.938666 -0.197155  1.480282  0.653676 -1.570708\n",
       "row6   0.636236  1.264573  0.477637 -1.516430  0.742476\n",
       "row7   1.362473  0.410240  2.084366  0.219196 -2.468919\n",
       "row8   1.191556 -0.671468  0.452619  1.296798 -0.222210\n",
       "row9   1.504777 -0.813249  1.235534 -0.292836  0.635495\n",
       "row10  0.498502 -1.127285 -1.357911 -1.185511 -0.403731"
      ]
     },
     "execution_count": 8,
     "metadata": {},
     "output_type": "execute_result"
    }
   ],
   "source": [
    "my_dataframe"
   ]
  },
  {
   "cell_type": "code",
   "execution_count": 9,
   "metadata": {},
   "outputs": [
    {
     "data": {
      "text/plain": [
       "pandas.core.series.Series"
      ]
     },
     "execution_count": 9,
     "metadata": {},
     "output_type": "execute_result"
    }
   ],
   "source": [
    "f"
   ]
  },
  {
   "cell_type": "code",
   "execution_count": 11,
   "metadata": {},
   "outputs": [
    {
     "data": {
      "text/plain": [
       "pandas.core.frame.DataFrame"
      ]
     },
     "execution_count": 11,
     "metadata": {},
     "output_type": "execute_result"
    }
   ],
   "source": [
    "type(my_dataframe)                          # And the total series contain in all they known as dataframe."
   ]
  },
  {
   "cell_type": "code",
   "execution_count": null,
   "metadata": {},
   "outputs": [],
   "source": []
  }
 ],
 "metadata": {
  "kernelspec": {
   "display_name": "Python 3",
   "language": "python",
   "name": "python3"
  },
  "language_info": {
   "codemirror_mode": {
    "name": "ipython",
    "version": 3
   },
   "file_extension": ".py",
   "mimetype": "text/x-python",
   "name": "python",
   "nbconvert_exporter": "python",
   "pygments_lexer": "ipython3",
   "version": "3.8.5"
  }
 },
 "nbformat": 4,
 "nbformat_minor": 4
}
