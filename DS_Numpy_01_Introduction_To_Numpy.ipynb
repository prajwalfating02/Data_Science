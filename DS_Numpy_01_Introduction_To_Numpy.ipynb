{
 "cells": [
  {
   "cell_type": "markdown",
   "metadata": {},
   "source": [
    "**1. Python Libraries Used for Data Collection**\n",
    "\n",
    "    1.1 Selenium Python\n",
    "    1.2 Scrapy\n",
    "    1.3 Beautiful Soup\n",
    "    \n",
    "    \n",
    "**2. Best Libraries for Data Cleaning**\n",
    "    \n",
    "    2.1 Spacy\n",
    "    2.2 Numpy\n",
    "    2.3 Pandas\n",
    "    2.4 PyOD\n",
    "    \n",
    "    \n",
    "**3. Essential Libraries for Data Visualization**\n",
    "    \n",
    "    3.1 Matplotlib\n",
    "    3.2 Seabron\n",
    "    \n",
    "    \n",
    "**4. Python Libraries for Data Modeling**\n",
    "\n",
    "    4.1 Scikit-learn\n",
    "    4.2 Pytroch\n",
    "    4.3 TensorFlow\n",
    "    \n",
    "    \n",
    "**5. Some Libraries to Check Interpretability of Models**\n",
    "\n",
    "    5.1 Lime\n",
    "    5.2 H2O\n",
    "    \n",
    "    \n",
    "**6. Libraries You Need for Manipulating Audio**\n",
    "\n",
    "    6.1 Librosa\n",
    "    6.2 Madmom\n",
    "    6.3 pyAudioAnalysis\n",
    "    \n",
    "    \n",
    "**7. Python Libraries for Media(Images) Processing**\n",
    "\n",
    "    7.1 OpenCV_Python\n",
    "    7.2 Scikit-image\n",
    "    \n",
    "    \n",
    "**8. Database Communication Libraries**\n",
    "\n",
    "    8.1 Psycopg\n",
    "    8.2 SQLAlchemy\n",
    "    \n",
    "    \n",
    "**9. Python Libraries for Web Deployment**\n",
    "\n",
    "    9.1 Flask\n",
    "    9.2 Django\n",
    "    9.3 Pyramid"
   ]
  },
  {
   "cell_type": "code",
   "execution_count": null,
   "metadata": {},
   "outputs": [],
   "source": []
  },
  {
   "cell_type": "markdown",
   "metadata": {},
   "source": [
    "**We will be convering the most essential libraries for now and explore the rest later on during our machine learning class and beyond**\n",
    "\n",
    "    Numpy\n",
    "    \n",
    "    Pandas\n",
    "    \n",
    "    Matplotlib\n",
    "    \n",
    "    Seabron\n",
    "    \n",
    "    Beautiful Soup"
   ]
  },
  {
   "cell_type": "markdown",
   "metadata": {},
   "source": [
    "# Numerical Python (NumPy)"
   ]
  },
  {
   "cell_type": "markdown",
   "metadata": {},
   "source": [
    "Numpy is the fundamental package for scientific computing with Python. The main benefit of Numpy is its powerful N-dimensional array object that it provides.\n",
    "\n",
    "An array is collection of items stored at contiguous memory locations. The idea is to store multipla items of same type together.\n",
    "\n",
    "Let's see examples\n",
    "\n",
    "student assignment: different between numpy array.matrix and vectors"
   ]
  },
  {
   "cell_type": "code",
   "execution_count": 4,
   "metadata": {},
   "outputs": [],
   "source": [
    "import numpy as np                  # importing the numpy library"
   ]
  },
  {
   "cell_type": "code",
   "execution_count": 5,
   "metadata": {},
   "outputs": [
    {
     "data": {
      "text/plain": [
       "array([1, 2, 3])"
      ]
     },
     "execution_count": 5,
     "metadata": {},
     "output_type": "execute_result"
    }
   ],
   "source": [
    "my_list = [1,2,3]\n",
    "n = np.array(my_list)\n",
    "n"
   ]
  },
  {
   "cell_type": "code",
   "execution_count": 6,
   "metadata": {},
   "outputs": [
    {
     "data": {
      "text/plain": [
       "list"
      ]
     },
     "execution_count": 6,
     "metadata": {},
     "output_type": "execute_result"
    }
   ],
   "source": [
    "type(my_list)"
   ]
  },
  {
   "cell_type": "code",
   "execution_count": 8,
   "metadata": {},
   "outputs": [
    {
     "data": {
      "text/plain": [
       "numpy.ndarray"
      ]
     },
     "execution_count": 8,
     "metadata": {},
     "output_type": "execute_result"
    }
   ],
   "source": [
    "type(n)"
   ]
  },
  {
   "cell_type": "code",
   "execution_count": 9,
   "metadata": {},
   "outputs": [
    {
     "data": {
      "text/plain": [
       "array([1, 2, 3])"
      ]
     },
     "execution_count": 9,
     "metadata": {},
     "output_type": "execute_result"
    }
   ],
   "source": [
    "n = np.array([1,2,3])\n",
    "n"
   ]
  },
  {
   "cell_type": "code",
   "execution_count": null,
   "metadata": {},
   "outputs": [],
   "source": []
  }
 ],
 "metadata": {
  "kernelspec": {
   "display_name": "Python 3",
   "language": "python",
   "name": "python3"
  },
  "language_info": {
   "codemirror_mode": {
    "name": "ipython",
    "version": 3
   },
   "file_extension": ".py",
   "mimetype": "text/x-python",
   "name": "python",
   "nbconvert_exporter": "python",
   "pygments_lexer": "ipython3",
   "version": "3.8.5"
  }
 },
 "nbformat": 4,
 "nbformat_minor": 4
}
