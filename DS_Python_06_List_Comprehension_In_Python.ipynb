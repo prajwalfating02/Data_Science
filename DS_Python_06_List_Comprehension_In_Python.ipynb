{
 "cells": [
  {
   "cell_type": "markdown",
   "metadata": {},
   "source": [
    "# List Comperhension"
   ]
  },
  {
   "cell_type": "code",
   "execution_count": 1,
   "metadata": {},
   "outputs": [
    {
     "data": {
      "text/plain": [
       "[4, 49, 144, 289, 484, 729, 1024, 1369, 1764, 2209]"
      ]
     },
     "execution_count": 1,
     "metadata": {},
     "output_type": "execute_result"
    }
   ],
   "source": [
    "# Let's say we want to square all the numbers form 0-10, We can writen like the following\n",
    "\n",
    "squares = []\n",
    "for x in range(2,50,5):\n",
    "    squares.append(x**2)                             # Ranges numbers = [2,7,12,17,22,27,32,37,42,47]\n",
    "squares"
   ]
  },
  {
   "cell_type": "code",
   "execution_count": 2,
   "metadata": {},
   "outputs": [
    {
     "data": {
      "text/plain": [
       "[4, 49, 144, 289, 484, 729, 1024, 1369, 1764, 2209]"
      ]
     },
     "execution_count": 2,
     "metadata": {},
     "output_type": "execute_result"
    }
   ],
   "source": [
    "# We can also create it as simple as the following:\n",
    "\n",
    "squares = [x**2 for x in range(2,50,5)]        # This is called list comprehension also know as pandorable\n",
    "\n",
    "squares"
   ]
  },
  {
   "cell_type": "code",
   "execution_count": 9,
   "metadata": {},
   "outputs": [
    {
     "data": {
      "text/plain": [
       "[2,\n",
       " 4,\n",
       " 6,\n",
       " 8,\n",
       " 10,\n",
       " 12,\n",
       " 14,\n",
       " 16,\n",
       " 18,\n",
       " 20,\n",
       " 22,\n",
       " 24,\n",
       " 26,\n",
       " 28,\n",
       " 30,\n",
       " 32,\n",
       " 34,\n",
       " 36,\n",
       " 38,\n",
       " 40,\n",
       " 42,\n",
       " 44,\n",
       " 46,\n",
       " 48,\n",
       " 50,\n",
       " 52,\n",
       " 54,\n",
       " 56,\n",
       " 58,\n",
       " 60,\n",
       " 62,\n",
       " 64,\n",
       " 66,\n",
       " 68,\n",
       " 70,\n",
       " 72,\n",
       " 74,\n",
       " 76,\n",
       " 78,\n",
       " 80,\n",
       " 82,\n",
       " 84,\n",
       " 86,\n",
       " 88,\n",
       " 90,\n",
       " 92,\n",
       " 94,\n",
       " 96,\n",
       " 98]"
      ]
     },
     "execution_count": 9,
     "metadata": {},
     "output_type": "execute_result"
    }
   ],
   "source": [
    "output = [i for i in range(2,100) if i % 2 == 0]\n",
    "\n",
    "output                                     # \"i % 2 == 0\" means In the range any such no. that divisible by 2 there reminder is 0."
   ]
  },
  {
   "cell_type": "code",
   "execution_count": 5,
   "metadata": {},
   "outputs": [
    {
     "data": {
      "text/plain": [
       "[4, 9, 14, 19, 24, 29, 34, 39, 44, 49, 54, 59, 64, 69, 74, 79, 84, 89, 94, 99]"
      ]
     },
     "execution_count": 5,
     "metadata": {},
     "output_type": "execute_result"
    }
   ],
   "source": [
    "Addition = [x+2 for x in range(2,100,5)]\n",
    "\n",
    "Addition"
   ]
  },
  {
   "cell_type": "code",
   "execution_count": 7,
   "metadata": {},
   "outputs": [
    {
     "data": {
      "text/plain": [
       "[0, 5, 10, 15, 20, 25, 30, 35, 40, 45]"
      ]
     },
     "execution_count": 7,
     "metadata": {},
     "output_type": "execute_result"
    }
   ],
   "source": [
    "substraction = [x-2 for x in range(2,50,5)]\n",
    "\n",
    "substraction"
   ]
  },
  {
   "cell_type": "code",
   "execution_count": 11,
   "metadata": {},
   "outputs": [
    {
     "data": {
      "text/plain": [
       "[3,\n",
       " 6,\n",
       " 9,\n",
       " 12,\n",
       " 15,\n",
       " 18,\n",
       " 21,\n",
       " 24,\n",
       " 27,\n",
       " 30,\n",
       " 33,\n",
       " 36,\n",
       " 39,\n",
       " 42,\n",
       " 45,\n",
       " 48,\n",
       " 51,\n",
       " 54,\n",
       " 57,\n",
       " 60,\n",
       " 63,\n",
       " 66,\n",
       " 69,\n",
       " 72,\n",
       " 75,\n",
       " 78,\n",
       " 81,\n",
       " 84,\n",
       " 87,\n",
       " 90,\n",
       " 93,\n",
       " 96,\n",
       " 99]"
      ]
     },
     "execution_count": 11,
     "metadata": {},
     "output_type": "execute_result"
    }
   ],
   "source": [
    "output = [i for i in range(1,100) if i % 3 == 0]\n",
    "\n",
    "output"
   ]
  },
  {
   "cell_type": "code",
   "execution_count": 12,
   "metadata": {},
   "outputs": [],
   "source": [
    "output = [i for i in range(1,100) if i % 4 == 0]"
   ]
  },
  {
   "cell_type": "code",
   "execution_count": 13,
   "metadata": {},
   "outputs": [
    {
     "data": {
      "text/plain": [
       "[4,\n",
       " 8,\n",
       " 12,\n",
       " 16,\n",
       " 20,\n",
       " 24,\n",
       " 28,\n",
       " 32,\n",
       " 36,\n",
       " 40,\n",
       " 44,\n",
       " 48,\n",
       " 52,\n",
       " 56,\n",
       " 60,\n",
       " 64,\n",
       " 68,\n",
       " 72,\n",
       " 76,\n",
       " 80,\n",
       " 84,\n",
       " 88,\n",
       " 92,\n",
       " 96]"
      ]
     },
     "execution_count": 13,
     "metadata": {},
     "output_type": "execute_result"
    }
   ],
   "source": [
    "output"
   ]
  },
  {
   "cell_type": "code",
   "execution_count": null,
   "metadata": {},
   "outputs": [],
   "source": []
  }
 ],
 "metadata": {
  "kernelspec": {
   "display_name": "Python 3",
   "language": "python",
   "name": "python3"
  },
  "language_info": {
   "codemirror_mode": {
    "name": "ipython",
    "version": 3
   },
   "file_extension": ".py",
   "mimetype": "text/x-python",
   "name": "python",
   "nbconvert_exporter": "python",
   "pygments_lexer": "ipython3",
   "version": "3.8.5"
  }
 },
 "nbformat": 4,
 "nbformat_minor": 4
}
